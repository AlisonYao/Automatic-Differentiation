{
 "cells": [
  {
   "cell_type": "markdown",
   "metadata": {},
   "source": [
    "# Demo of best_autodiff"
   ]
  },
  {
   "cell_type": "code",
   "execution_count": 1,
   "metadata": {},
   "outputs": [],
   "source": [
    "# import packages\n",
    "import numpy as np\n",
    "import sys \n",
    "from best_autodiff import Forward, Reverse\n",
    "from best_autodiff import functions as ff\n",
    "from best_autodiff import rfunctions as rf"
   ]
  },
  {
   "cell_type": "markdown",
   "metadata": {},
   "source": [
    "## Forward Mode Demo"
   ]
  },
  {
   "cell_type": "code",
   "execution_count": 2,
   "metadata": {},
   "outputs": [
    {
     "name": "stdout",
     "output_type": "stream",
     "text": [
      "Value: 0.0\n",
      "Jacobian: 1.0\n"
     ]
    }
   ],
   "source": [
    "## R -> R: scalar case (1 function, 1 input)\n",
    "def f(x):\n",
    "    return ff.sin(x[0])\n",
    "\n",
    "# instantiate forward mode object for function f that has 1 input and 1 output\n",
    "forward = Forward(f,1,1)\n",
    "\n",
    "# get value and jacobian of function at x = 0\n",
    "value, jacobian = forward(0)\n",
    "print(f'Value: {value}')\n",
    "print(f'Jacobian: {jacobian}')"
   ]
  },
  {
   "cell_type": "code",
   "execution_count": 3,
   "metadata": {},
   "outputs": [
    {
     "name": "stdout",
     "output_type": "stream",
     "text": [
      "Value: [20]\n",
      "Jacobian: [[5 4]]\n",
      "Partial derivative of x0: [[5 0]]\n",
      "Partial derivative of x1: [[0 4]]\n"
     ]
    }
   ],
   "source": [
    "## Rm -> R: vector case (1 function, muliple inputs)\n",
    "def f(x):\n",
    "    return x[0]*x[1]\n",
    "\n",
    "# instantiate forward mode object for function f with multiple inputs\n",
    "forward = Forward(f,2,1)\n",
    "\n",
    "# get value and jacobian at x = [4,5]\n",
    "value, jacobian = forward(np.array([4,5]))\n",
    "\n",
    "# can also get partial derivatives with seed vectors\n",
    "partial_x0 = forward.get_jacobian(np.array([4,5]), np.array([1,0]))\n",
    "partial_x1 = forward.get_jacobian(np.array([4,5]), np.array([0,1]))\n",
    "print(f'Value: {value}')\n",
    "print(f'Jacobian: {jacobian}')\n",
    "print(f'Partial derivative of x0: {partial_x0}')\n",
    "print(f'Partial derivative of x1: {partial_x1}')"
   ]
  },
  {
   "cell_type": "code",
   "execution_count": 4,
   "metadata": {},
   "outputs": [
    {
     "name": "stdout",
     "output_type": "stream",
     "text": [
      "Value:\n",
      " [ 0. 16.]\n",
      "Jacobian:\n",
      " [[1. 0.]\n",
      " [0. 8.]]\n",
      "Weighted partial derivatives using the same seed:\n",
      " [[2. 0.]\n",
      " [0. 4.]]\n",
      "Weighted partial derivatives using different seeds:\n",
      " [[2. 0.]\n",
      " [0. 0.]]\n"
     ]
    }
   ],
   "source": [
    "## Rm -> Rn: multiple functions (multiple functions, 1 or multiple inputs)\n",
    "def f1(x):\n",
    "    return ff.sin(x[0])\n",
    "def f2(x):\n",
    "    return x[0]**2 + x[1]**2\n",
    "\n",
    "# instantiate forward mode object for functions [f1,f2] that have multiple inputs x = [x0,x1]\n",
    "forward = Forward([f1,f2],2,2)\n",
    "\n",
    "# get function value and jacobian at x = [0,4]\n",
    "value, jacobian = forward(np.array([0,4]))\n",
    "print(f'Value:\\n {value}')\n",
    "print(f'Jacobian:\\n {jacobian}')\n",
    "\n",
    "# can also get weighted partial derivatives with weighted seed vector\n",
    "# use same seed for each function\n",
    "partials_weighted_same = forward.get_jacobian(np.array([0,4]), np.array([2,1/2]))\n",
    "# use different seed for each function\n",
    "partial_weighted_different = forward.get_jacobian(np.array([0,4]), np.array([[2,1/2],[1,0]]))\n",
    "print(f'Weighted partial derivatives using the same seed:\\n {partials_weighted_same}')\n",
    "print(f'Weighted partial derivatives using different seeds:\\n {partial_weighted_different}')"
   ]
  },
  {
   "cell_type": "markdown",
   "metadata": {},
   "source": [
    "## Reverse Mode Demo"
   ]
  },
  {
   "cell_type": "code",
   "execution_count": 5,
   "metadata": {},
   "outputs": [
    {
     "name": "stdout",
     "output_type": "stream",
     "text": [
      "Value: 1.3308758237356713\n",
      "Jacobian: 0.5753328132280636\n"
     ]
    }
   ],
   "source": [
    "# R -> R\n",
    "def f(x):\n",
    "    return rf.sin(x[0])**3 + rf.sqrt(rf.cos(x[0]))\n",
    "x = 1\n",
    "reverse = Reverse(f, 1, 1)\n",
    "value, jacobian = reverse(x)\n",
    "print(f'Value: {value}')\n",
    "print(f'Jacobian: {jacobian}')"
   ]
  },
  {
   "cell_type": "code",
   "execution_count": 6,
   "metadata": {},
   "outputs": [
    {
     "name": "stdout",
     "output_type": "stream",
     "text": [
      "Value: [1.         1.         0.73105858]\n",
      "Jacobian: \n",
      " [[3.        ]\n",
      " [1.        ]\n",
      " [0.19661193]]\n"
     ]
    }
   ],
   "source": [
    "# R -> Rn\n",
    "def f0(x):\n",
    "    return x[0]**3\n",
    "def f1(x):\n",
    "    return x[0]\n",
    "def f2(x):\n",
    "    return rf.logistic(x[0])\n",
    "\n",
    "f = [f0, f1, f2]\n",
    "x = 1\n",
    "reverse = Reverse(f, 1, 3) # 1 input, 3 outputs\n",
    "value, jacobian = reverse(x)\n",
    "print(f'Value: {value}')\n",
    "print(f'Jacobian: \\n {jacobian}')"
   ]
  },
  {
   "cell_type": "code",
   "execution_count": 7,
   "metadata": {},
   "outputs": [
    {
     "name": "stdout",
     "output_type": "stream",
     "text": [
      "Value: [6.2398665]\n",
      "Jacobian: [[ 1.87195995 -0.58042263]]\n"
     ]
    }
   ],
   "source": [
    "# Rm -> R\n",
    "def f(x):\n",
    "    return (rf.sqrt(x[0])/rf.log(x[1]))*x[0]\n",
    "x = [5, 6]\n",
    "reverse = Reverse(f, 2, 1) # 2 inputs, 1 output\n",
    "value, jacobian = reverse(x)\n",
    "print(f'Value: {value}')\n",
    "print(f'Jacobian: {jacobian}')"
   ]
  },
  {
   "cell_type": "code",
   "execution_count": 8,
   "metadata": {},
   "outputs": [
    {
     "name": "stdout",
     "output_type": "stream",
     "text": [
      "Value: [0.91328931 0.99991037]\n",
      "Jacobian: \n",
      " [[-0.29722477 -0.46290015  0.        ]\n",
      " [ 0.          0.          0.04586154]]\n"
     ]
    }
   ],
   "source": [
    "# Rm -> Rn\n",
    "def f1(x):\n",
    "    return rf.exp(-(rf.sin(x[0])-rf.cos(x[1]))**2)\n",
    "\n",
    "def f2(x):\n",
    "    return rf.sin(-rf.log(x[0])**2+rf.tan(x[2]))\n",
    "f  = [f1, f2]\n",
    "x = [1, 1, 1]\n",
    "reverse = Reverse(f, 3, 2) # 3 inputs, 2 outputs\n",
    "value, jacobian = reverse(x)\n",
    "print(f'Value: {value}')\n",
    "print(f'Jacobian: \\n {jacobian}')"
   ]
  }
 ],
 "metadata": {
  "kernelspec": {
   "display_name": "Python 3",
   "language": "python",
   "name": "python3"
  },
  "language_info": {
   "codemirror_mode": {
    "name": "ipython",
    "version": 3
   },
   "file_extension": ".py",
   "mimetype": "text/x-python",
   "name": "python",
   "nbconvert_exporter": "python",
   "pygments_lexer": "ipython3",
   "version": "3.8.5"
  },
  "vscode": {
   "interpreter": {
    "hash": "490a942be6e7215d7fcf442c4d72c6b0a30db17a1e1098d7116cd0e5802a5bb8"
   }
  }
 },
 "nbformat": 4,
 "nbformat_minor": 2
}
